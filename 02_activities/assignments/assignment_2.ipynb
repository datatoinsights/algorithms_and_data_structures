{
 "cells": [
  {
   "cell_type": "markdown",
   "metadata": {},
   "source": [
    "# Practice Interview\n",
    "\n",
    "## Objective\n",
    "\n",
    "_*The partner assignment aims to provide participants with the opportunity to practice coding in an interview context. You will analyze your partner's Assignment 1. Moreover, code reviews are common practice in a software development team. This assignment should give you a taste of the code review process.*_\n",
    "\n",
    "## Group Size\n",
    "\n",
    "Each group should have 2 people. You will be assigned a partner\n",
    "\n",
    "## Part 1:\n",
    "\n",
    "You and your partner must share each other's Assignment 1 submission."
   ]
  },
  {
   "cell_type": "markdown",
   "metadata": {},
   "source": [
    "\n",
    "## Part 2:\n",
    "\n",
    "Create a Jupyter Notebook, create 6 of the following headings, and complete the following for your partner's assignment 1:\n",
    "\n",
    "-   Paraphrase the problem in your own words.\n"
   ]
  },
  {
   "cell_type": "code",
   "execution_count": null,
   "metadata": {},
   "outputs": [],
   "source": [
    "# Your answer here\n",
    "\n",
    "# The problem is to find the missing integer(s) from a list of integer(s), in the range of [0,n]. \n",
    "# Return -1 if the list does not exist or there is nothing missing from the list."
   ]
  },
  {
   "cell_type": "markdown",
   "metadata": {},
   "source": [
    "\n",
    "-   Create 1 new example that demonstrates you understand the problem. Trace/walkthrough 1 example that your partner made and explain it.\n"
   ]
  },
  {
   "cell_type": "code",
   "execution_count": null,
   "metadata": {},
   "outputs": [],
   "source": [
    "# Your answer here\n",
    "\n",
    "# input: lst = [0,2,4,5,6,8]\n",
    "# output: [1,3,7]"
   ]
  },
  {
   "cell_type": "markdown",
   "metadata": {},
   "source": [
    "\n",
    "-   Copy the solution your partner wrote. \n"
   ]
  },
  {
   "cell_type": "code",
   "execution_count": 40,
   "metadata": {},
   "outputs": [],
   "source": [
    "# Your answer here\n",
    "\n",
    "from typing import List\n",
    "\n",
    "def missing_num(nums: List) -> [int]:\n",
    "  # TODO\n",
    "    if not nums: \n",
    "        return -1\n",
    "\n",
    "    max_num = max(nums)\n",
    "    full_set = set(range(max_num + 1))   \n",
    "    nums_set = set(nums)                \n",
    "    \n",
    "    missing_numbers = list(full_set - nums_set)  \n",
    "    missing_numbers.sort() \n",
    "    \n",
    "    return missing_numbers if missing_numbers else -1"
   ]
  },
  {
   "cell_type": "code",
   "execution_count": 41,
   "metadata": {},
   "outputs": [
    {
     "data": {
      "text/plain": [
       "[1]"
      ]
     },
     "execution_count": 41,
     "metadata": {},
     "output_type": "execute_result"
    }
   ],
   "source": [
    "lst = [0,2]\n",
    "missing_num (lst)"
   ]
  },
  {
   "cell_type": "markdown",
   "metadata": {},
   "source": [
    "\n",
    "-   Explain why their solution works in your own words.\n"
   ]
  },
  {
   "cell_type": "code",
   "execution_count": null,
   "metadata": {},
   "outputs": [],
   "source": [
    "# Your answer here\n",
    "\n",
    "# The steps took:\n",
    "# 1. set the base, wehre the imput list is empty, in this case, return -1\n",
    "# 2. find the maximum number in the list, and create a full set in the range of [0, maximum number in the list], \n",
    "#    create another set for the input list of integers.\n",
    "# 3. create a missing number list by comparing the two sets created in step 2\n",
    "# 4. sort the list created in step 3\n",
    "# 5. return the missing number list"
   ]
  },
  {
   "cell_type": "markdown",
   "metadata": {},
   "source": [
    "\n",
    "-   Explain the problem’s time and space complexity in your own words.\n"
   ]
  },
  {
   "cell_type": "code",
   "execution_count": null,
   "metadata": {},
   "outputs": [],
   "source": [
    "# Your answer here\n",
    "\n",
    "# The time complexity seems to be O(nlog(n)), for the sorting function (Tim Sort is the default sorting algorithm used by Python's sorted() and list); \n",
    "# time complexity for the max funciton is O(n); \n",
    "# overrall the time complexity should be O(nlog(n))\n",
    "\n",
    "# The space complexity should be O(n), as the space complexity for full_set, the num_set and the missing_num is O(n), respectively."
   ]
  },
  {
   "cell_type": "markdown",
   "metadata": {},
   "source": [
    "\n",
    "-   Critique your partner's solution, including explanation, and if there is anything that should be adjusted.\n"
   ]
  },
  {
   "cell_type": "code",
   "execution_count": 66,
   "metadata": {},
   "outputs": [],
   "source": [
    "# Your answer here\n",
    "\n",
    "# It seems that the code can be improved using iteration/loop, so that the time complexity can be redueced to O(n) from O(nlog(n)), \n",
    "# n being the total number of integers in the range of [0,n]\n",
    "\n",
    "# The space complexity is O(n), as both lists of full_set_list and missing_nums should have space complexity of O(n) respectivey.\n",
    "\n",
    "# below are the codes I developed using iteration/loop:\n",
    "\n",
    "from typing import List\n",
    "\n",
    "def missing_num(nums: List, missing_nums=[]) -> [int]:\n",
    "  # TODO\n",
    "    if not nums: \n",
    "        return -1\n",
    "    else:\n",
    "      max_num = max(nums)\n",
    "      full_set = set(range(max_num + 1))\n",
    "      full_set_list = list(full_set)\n",
    "      for i in range((max_num + 1)): \n",
    "        if full_set_list[i] not in nums:\n",
    "          missing_nums.append(full_set_list[i])  \n",
    "    return missing_nums if missing_nums else -1"
   ]
  },
  {
   "cell_type": "code",
   "execution_count": 67,
   "metadata": {},
   "outputs": [
    {
     "data": {
      "text/plain": [
       "[0, 1, 2, 3, 4, 5, 6, 7, 8, 9]"
      ]
     },
     "execution_count": 67,
     "metadata": {},
     "output_type": "execute_result"
    }
   ],
   "source": [
    "lst = [10]\n",
    "missing_num (lst)"
   ]
  },
  {
   "cell_type": "markdown",
   "metadata": {},
   "source": [
    "\n",
    "## Part 3:\n",
    "\n",
    "Please write a 200 word reflection documenting your process from assignment 1, and your presentation and review experience with your partner at the bottom of the Jupyter Notebook under a new heading \"Reflection.\" Again, export this Notebook as pdf.\n"
   ]
  },
  {
   "cell_type": "markdown",
   "metadata": {},
   "source": [
    "### Reflection"
   ]
  },
  {
   "cell_type": "code",
   "execution_count": null,
   "metadata": {},
   "outputs": [],
   "source": [
    "# Your answer here\n",
    "\n",
    "# Assignment 1 was regarding question 2, to print all possible paths for a TreeNode objects, from top root node to bottom leaf nodes. \n",
    "# The key point is to use the tree structure and recursion to break down the logic to the very basic, by develping the base case, \n",
    "# and finding the pattern for recursion. The pattern is that the path will keep adding nodes value from the top root to each child nodes, \n",
    "# until the leaf node. The recusion runs for each node where it has either left child node or right child node.\n",
    "\n",
    "# For the review experience for the partner's assignment for question 3, finding the missing integer from a list of integers. \n",
    "# It seems a better way to solve the issue is by using iteration. This can reduce the time complxity to O(n) and maintain the space complexity at O(n).\n",
    "# Recursion method should also be able to solve this issue.\n",
    "\n",
    "# Overall, recursion and iteration methods both excel in different situations. Recursion seems to work better for tree structure, \n",
    "# where the code can be easily understood; whereas for list, iteration/loop seems to be more intuitively easy to understand.\n",
    "# Furthermore, the codes can be optimized in terms of time and space complexity. We should always be aware of the time and space complexity \n",
    "# when developing solutions, and achieve the best time and space complexity if possible."
   ]
  },
  {
   "cell_type": "markdown",
   "metadata": {},
   "source": [
    "\n",
    "## Evaluation Criteria\n",
    "\n",
    "We are looking for the similar points as Assignment 1\n",
    "\n",
    "-   Problem is accurately stated\n",
    "\n",
    "-   New example is correct and easily understandable\n",
    "\n",
    "-   Correctness, time, and space complexity of the coding solution\n",
    "\n",
    "-   Clarity in explaining why the solution works, its time and space complexity\n",
    "\n",
    "-   Quality of critique of your partner's assignment, if necessary\n"
   ]
  },
  {
   "cell_type": "markdown",
   "metadata": {},
   "source": [
    "## Submission Information\n",
    "\n",
    "🚨 **Please review our [Assignment Submission Guide](https://github.com/UofT-DSI/onboarding/blob/main/onboarding_documents/submissions.md)** 🚨 for detailed instructions on how to format, branch, and submit your work. Following these guidelines is crucial for your submissions to be evaluated correctly.\n",
    "\n",
    "### Submission Parameters:\n",
    "* Submission Due Date: `HH:MM AM/PM - DD/MM/YYYY`\n",
    "* The branch name for your repo should be: `assignment-2`\n",
    "* What to submit for this assignment:\n",
    "    * This Jupyter Notebook (assignment_2.ipynb) should be populated and should be the only change in your pull request.\n",
    "* What the pull request link should look like for this assignment: `https://github.com/<your_github_username>/algorithms_and_data_structures/pull/<pr_id>`\n",
    "    * Open a private window in your browser. Copy and paste the link to your pull request into the address bar. Make sure you can see your pull request properly. This helps the technical facilitator and learning support staff review your submission easily.\n",
    "\n",
    "Checklist:\n",
    "- [ ] Created a branch with the correct naming convention.\n",
    "- [ ] Ensured that the repository is public.\n",
    "- [ ] Reviewed the PR description guidelines and adhered to them.\n",
    "- [ ] Verify that the link is accessible in a private browser window.\n",
    "\n",
    "If you encounter any difficulties or have questions, please don't hesitate to reach out to our team via our Slack at `#cohort-3-help`. Our Technical Facilitators and Learning Support staff are here to help you navigate any challenges.\n"
   ]
  }
 ],
 "metadata": {
  "kernelspec": {
   "display_name": "dsi_participant",
   "language": "python",
   "name": "python3"
  },
  "language_info": {
   "codemirror_mode": {
    "name": "ipython",
    "version": 3
   },
   "file_extension": ".py",
   "mimetype": "text/x-python",
   "name": "python",
   "nbconvert_exporter": "python",
   "pygments_lexer": "ipython3",
   "version": "3.9.15"
  }
 },
 "nbformat": 4,
 "nbformat_minor": 2
}
